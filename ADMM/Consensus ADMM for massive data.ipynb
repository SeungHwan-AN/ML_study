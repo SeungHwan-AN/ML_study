{
 "cells": [
  {
   "cell_type": "markdown",
   "metadata": {},
   "source": [
    "# Consensus ADMM for massive data\n",
    "## using scaled form, stopping criteria and MPI"
   ]
  },
  {
   "cell_type": "code",
   "execution_count": null,
   "metadata": {},
   "outputs": [],
   "source": [
    "if(!require(data.table)) install.packages(\"data.table\")\n",
    "require(data.table)\n",
    "if(!require(Rmpi)) install.packages(\"Rmpi\")\n",
    "require(Rmpi)\n",
    "\n",
    "# 1. slaves spawning\n",
    "mpi.spawn.Rslaves(nslaves = 10)"
   ]
  },
  {
   "cell_type": "code",
   "execution_count": null,
   "metadata": {},
   "outputs": [],
   "source": [
    "# 2. parameter setting\n",
    "k = 10 # number of slaves(machines)\n",
    "d = 100 # number of data\n",
    "n = 200 \n",
    "p = 40\n",
    "eta = 0.1 # learning rate\n",
    "lo = 5\n",
    "epochs = 10000\n",
    "iterations = 100\n",
    "e_abs = 0.001\n",
    "e_rel = 0.0001\n",
    "running_time = c()\n",
    "global_objs = list(k = k, d = d, n = n, p = p, eta = eta, lo = lo, iterations = iterations) # for broadcasting\n",
    "\n",
    "# 3. parameters for master\n",
    "true_beta = c(rep(1,5), rep(0,p-5))\n",
    "set.seed(960520)\n",
    "global_beta = matrix(rnorm(p), p, 1)\n",
    "\n",
    "# 4. parameters(beta, dual) for slaves\n",
    "local_beta = list()\n",
    "local_dual = list()\n",
    "for(i in 1:d)\n",
    "{\n",
    "  set.seed(i * 520)\n",
    "  local_beta[[i]] = rnorm(p)\n",
    "  set.seed(i * 960)\n",
    "  local_dual[[i]] = rnorm(p)\n",
    "}"
   ]
  },
  {
   "cell_type": "code",
   "execution_count": null,
   "metadata": {},
   "outputs": [],
   "source": [
    "# 0. data generation\n",
    "# for(i in 1:d)\n",
    "# {\n",
    "#     set.seed(i)\n",
    "#     x = matrix(rnorm(n*p), n, p)\n",
    "#     y = rbinom(n, size = 1, prob = 1 / (1 + exp(-x %*% true_beta)))\n",
    "#     fwrite(cbind(x, y), file = paste('/home/jeon/an/admm_massive/data/data', i, '.csv', sep = \"\"))\n",
    "# }"
   ]
  },
  {
   "cell_type": "code",
   "execution_count": null,
   "metadata": {},
   "outputs": [],
   "source": [
    "# 5. function for stopping criteria\n",
    "e_pri_fun = function(p, e_abs, e_rel, x, z)\n",
    "{\n",
    "  x_mat = matrix(numeric(0), p, 0)\n",
    "  for(i in 1:d) x_mat = cbind(x_mat, x[[i]])\n",
    "  return(sqrt(p) * e_abs + e_rel * max(norm(x_mat, \"F\"), norm(z, \"F\")))\n",
    "}\n",
    "e_dual_fun = function(p, e_abs, e_rel, u)\n",
    "{\n",
    "  u_mat = matrix(numeric(0), p, 0)\n",
    "  for(i in 1:d) u_mat = cbind(u_mat, u[[i]])\n",
    "  return(sqrt(p) * e_abs + e_rel * norm(u_mat, \"F\"))\n",
    "}"
   ]
  },
  {
   "cell_type": "code",
   "execution_count": null,
   "metadata": {},
   "outputs": [],
   "source": [
    "# 6. broadcasting\n",
    "mpi.bcast.Robj2slave(global_objs)\n",
    "mpi.bcast.Robj2slave(local_beta)\n",
    "mpi.bcast.Robj2slave(local_dual)\n",
    "mpi.bcast.Robj2slave(global_beta)"
   ]
  },
  {
   "cell_type": "code",
   "execution_count": null,
   "metadata": {},
   "outputs": [],
   "source": [
    "# initial_time = as.numeric(format(Sys.time(), \"%s\"))\n",
    "# 7. communication\n",
    "mpi.bcast.cmd(cmd = source(\"/home/jeon/an/admm_massive/slavefunctions_logistic_consensus.R\"))\n",
    "for(t in 1:epochs)\n",
    "{\n",
    "  for(i in 1:(d/k))\n",
    "  {\n",
    "    # update local beta\n",
    "    mpi.bcast.Robj2slave(i)\n",
    "    b_slaves = mpi.remote.exec(cmd = slavefunction(mpi.comm.rank()))\n",
    "    # save partial local beta\n",
    "    for(j in 1:k)\n",
    "    {\n",
    "      local_beta[[(d/k) * (j - 1) + i]] = b_slaves[[j]]\n",
    "    }\n",
    "  }\n",
    "  # update global beta\n",
    "  sum = rep(0, p)\n",
    "  for(i in 1:d)\n",
    "  {\n",
    "    sum = sum + local_beta[[i]] + local_dual[[i]]\n",
    "  }\n",
    "  old_beta = global_beta\n",
    "  global_beta = sum / d\n",
    "  # update dual variables \n",
    "  for(i in 1:d)\n",
    "  {\n",
    "    local_dual[[i]] = local_dual[[i]] + local_beta[[i]] - global_beta\n",
    "  }\n",
    "  # running_time = c(running_time, as.numeric(format(Sys.time(), \"%s\")) - initial_time)\n",
    "  fwrite(as.matrix(global_beta), file = paste('/home/jeon/an/admm_massive/beta/beta_', t, '.csv', sep=\"\"))\n",
    "  # check stopping criteria\n",
    "  e_pri = e_pri_fun(p, e_abs, e_rel, local_beta, global_beta)\n",
    "  e_dual = e_dual_fun(p, e_abs, e_rel, local_dual)\n",
    "  b_mat = matrix(numeric(0), p, 0)\n",
    "  for(i in 1:d)\n",
    "  {\n",
    "    b_mat = cbind(b_mat, local_beta[[i]])\n",
    "  }\n",
    "  r = b_mat - global_beta %*% matrix(rep(1, d), 1, d)\n",
    "  s = as.matrix(lo * (global_beta - old_beta))\n",
    "  if(t %% 5 == 0) cat('1. primal residual:', norm(r, \"F\"), '2. dual residual:', norm(s, 'F'), '\\n')\n",
    "  if(norm((r), \"F\") < e_pri && norm((s), \"F\") < e_dual) break\n",
    "  # broadcast updated parameters\n",
    "  mpi.bcast.Robj2slave(local_beta)\n",
    "  mpi.bcast.Robj2slave(local_dual)\n",
    "  mpi.bcast.Robj2slave(global_beta)\n",
    "}"
   ]
  },
  {
   "cell_type": "code",
   "execution_count": null,
   "metadata": {},
   "outputs": [],
   "source": [
    "# 8. integrating global beta\n",
    "total_beta = matrix(numeric(0), p, 0)\n",
    "for(i in 1:t)\n",
    "{\n",
    "  total_beta = cbind(total_beta, as.matrix(fread(file = paste('/home/jeon/an/admm_massive/beta/beta_', i, '.csv', sep=\"\"))))\n",
    "}"
   ]
  },
  {
   "cell_type": "code",
   "execution_count": null,
   "metadata": {},
   "outputs": [],
   "source": [
    "# 9. loss computing\n",
    "loss = rep(0, t)\n",
    "for(i in 1:d)\n",
    "{\n",
    "  data = as.matrix(fread(file = paste('/home/jeon/an/admm_massive/data/data', i, '.csv', sep=\"\"), header = T))\n",
    "  x = data[ ,1:p]\n",
    "  y = data[ ,(p + 1)]\n",
    "  loss = loss - t(y) %*% x %*% total_beta + colSums(log(1 + exp(x %*% total_beta)))\n",
    "}\n",
    "fwrite(as.matrix(loss), file = paste('/home/jeon/an/admm_massive/admm_massive_loss.csv', sep=\"\"))\n"
   ]
  },
  {
   "cell_type": "code",
   "execution_count": null,
   "metadata": {},
   "outputs": [],
   "source": [
    "# 10. save loss~running_time plot\n",
    "png(file = \"/home/jeon/an/admm_massive/admm_massive_loss_plot.png\")\n",
    "# running_time = as.matrix(fread(file = '/home/jeon/an/admm/running_time.csv', header = T))\n",
    "# plot(running_time, loss)\n",
    "plot(seq(1,t,1), loss)\n",
    "dev.off()"
   ]
  },
  {
   "cell_type": "code",
   "execution_count": null,
   "metadata": {},
   "outputs": [],
   "source": [
    "# 11. close slaves\n",
    "mpi.close.Rslaves()"
   ]
  }
 ],
 "metadata": {
  "kernelspec": {
   "display_name": "R",
   "language": "R",
   "name": "ir"
  },
  "language_info": {
   "codemirror_mode": "r",
   "file_extension": ".r",
   "mimetype": "text/x-r-source",
   "name": "R",
   "pygments_lexer": "r",
   "version": "3.5.1"
  }
 },
 "nbformat": 4,
 "nbformat_minor": 2
}
