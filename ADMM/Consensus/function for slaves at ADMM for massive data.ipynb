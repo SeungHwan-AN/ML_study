{
 "cells": [
  {
   "cell_type": "markdown",
   "metadata": {},
   "source": [
    "# function for slaves at ADMM for massive data"
   ]
  },
  {
   "cell_type": "code",
   "execution_count": null,
   "metadata": {},
   "outputs": [],
   "source": [
    "### function for slaves at ADMM for massive data\n",
    "if(!require(data.table)) install.packages(\"data.table\")\n",
    "require(data.table)\n",
    "\n",
    "slavefunction = function(index)\n",
    "{\n",
    "  num = as.integer((index - 1) * (global_objs$d / global_objs$k) + i)\n",
    "  data = as.matrix(fread(file = paste('/home/jeon/an/admm_massive/data/data', num, '.csv', sep=\"\"), header = T))\n",
    "  x = data[ ,1:global_objs$p]\n",
    "  y = as.matrix(data[ ,(global_objs$p + 1)])\n",
    "  b = local_beta[[num]]\n",
    "  dual = local_dual[[num]]\n",
    "  while(T)\n",
    "  {\n",
    "    # computing gradient\n",
    "    grad = -matrix((t(y) %*% x) / global_objs$n, global_objs$p, 1) + (t(x) %*% (1 / (1 + exp(-x %*% b)))) / global_objs$n +\n",
    "      matrix(global_objs$lo * (b - global_beta + dual), global_objs$p, 1)\n",
    "    # update local beta\n",
    "    b = b - global_objs$eta * grad\n",
    "    # checking stopping criteria\n",
    "    if(norm(grad, \"F\") < 1) break\n",
    "  }\n",
    "  return(b)\n",
    "}"
   ]
  }
 ],
 "metadata": {
  "kernelspec": {
   "display_name": "R",
   "language": "R",
   "name": "ir"
  },
  "language_info": {
   "codemirror_mode": "r",
   "file_extension": ".r",
   "mimetype": "text/x-r-source",
   "name": "R",
   "pygments_lexer": "r",
   "version": "3.5.1"
  }
 },
 "nbformat": 4,
 "nbformat_minor": 2
}
